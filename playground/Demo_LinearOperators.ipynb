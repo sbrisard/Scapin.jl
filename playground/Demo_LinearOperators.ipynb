{
 "cells": [
  {
   "cell_type": "markdown",
   "id": "09525a4c-e2b8-4d76-a966-0d376ca20324",
   "metadata": {},
   "source": [
    "# A demo of the `LinearOperators.jl` library"
   ]
  },
  {
   "cell_type": "markdown",
   "id": "303e4d17-c605-4e5c-9b85-1012ba61cefb",
   "metadata": {},
   "source": [
    "Solve the Laplace equation `Δu = f` over a `M × N` grid using finite differences. The numerical scheme reads in the real space"
   ]
  },
  {
   "cell_type": "code",
   "execution_count": null,
   "id": "795ff358-dbe7-429d-9d3b-aa47d592611b",
   "metadata": {},
   "outputs": [],
   "source": [
    "using CairoMakie\n",
    "using FFTW\n",
    "using ImageFiltering\n",
    "using LinearOperators"
   ]
  },
  {
   "cell_type": "code",
   "execution_count": null,
   "id": "cce54fa6-216e-48a7-adc1-d59988fd75c5",
   "metadata": {},
   "outputs": [],
   "source": [
    "const DIM = 2"
   ]
  },
  {
   "cell_type": "code",
   "execution_count": null,
   "id": "1e186f69-09f0-491f-8a75-c01ae5ba5894",
   "metadata": {},
   "outputs": [],
   "source": [
    "Lx, Ly = 1.0, 1.5"
   ]
  },
  {
   "cell_type": "code",
   "execution_count": null,
   "id": "49a22848-4831-4ea3-82e8-e3f740e13f25",
   "metadata": {},
   "outputs": [],
   "source": [
    "Nx, Ny = 64, 128"
   ]
  },
  {
   "cell_type": "code",
   "execution_count": null,
   "id": "523563c2-80c2-4351-b566-d0528882912e",
   "metadata": {},
   "outputs": [],
   "source": [
    "Δx, Δy = Lx / Nx, Ly / Ny"
   ]
  },
  {
   "cell_type": "code",
   "execution_count": null,
   "id": "8eb0ad4e-0f92-4903-86f1-35ac3bbda38c",
   "metadata": {},
   "outputs": [],
   "source": [
    "nrows = ncols = Nx * Ny"
   ]
  },
  {
   "cell_type": "code",
   "execution_count": null,
   "id": "f137c38e-45ee-4f8a-ab8f-d7175fa5129e",
   "metadata": {},
   "outputs": [],
   "source": [
    "kx² = [(2 * sin(π * n / Nx))^2 for n = 0:(Nx - 1)]\n",
    "ky² = [(2 * sin(π * n / Ny))^2 for n = 0:(Ny - 1)]\n",
    "\n",
    "function mul_laplacian!(y, x, α, β)\n",
    "    x_hat = fft(x)\n",
    "    for nx = 1:Nx\n",
    "        for ny = 1:Ny\n",
    "            x_hat[nx, ny] *= kx²[nx] + ky²[ny]\n",
    "        end\n",
    "    end\n",
    "    y .= α .* ifft(x_hat) .+ β .* y\n",
    "end"
   ]
  },
  {
   "cell_type": "code",
   "execution_count": null,
   "id": "039f037c-6d9d-4a66-bf1e-0d1d30aab630",
   "metadata": {},
   "outputs": [],
   "source": [
    "ux = [sin(2π * (n + 0.5) / Nx) for n = 0:(Nx-1)]\n",
    "uy = [sin(4π * (n + 0.5) / Ny) for n = 0:(Ny-1)]\n",
    "u = ux .* uy'\n",
    "\n",
    "heatmap(u)"
   ]
  },
  {
   "cell_type": "code",
   "execution_count": null,
   "id": "49be8d2b-7a7b-4e25-b1be-ba78697165c4",
   "metadata": {},
   "outputs": [],
   "source": [
    "Δu = Array{ComplexF64}(undef, Nx, Ny)\n",
    "mul_laplacian!(Δu, u, 1.0, 0.0)\n",
    "heatmap(real.(Δu))\n",
    "#save(\"test.png\", fig)"
   ]
  },
  {
   "cell_type": "code",
   "execution_count": null,
   "id": "54e6afbf-128f-49f9-a5dc-1a5643d979c8",
   "metadata": {},
   "outputs": [],
   "source": [
    "w = centered(zeros(Float64, 3, 3))\n",
    "w[-1, 0] = w[1, 0] = 1 / Δx^2\n",
    "w[0, -1] = w[0, 1] = 1 / Δy^2\n",
    "w[0, 0] = -2 * (1 / Δx^2 + 1 / Δy^2)\n",
    "w\n",
    "\n",
    "Δu_ref = imfilter(u, w, \"circular\", Algorithm.FIR())\n",
    "heatmap(Δu_ref)"
   ]
  },
  {
   "cell_type": "code",
   "execution_count": null,
   "id": "b52b6d4a-f2ad-4156-a791-2f69c08eb04d",
   "metadata": {},
   "outputs": [],
   "source": [
    "Δu_ref ./ real(Δu)"
   ]
  }
 ],
 "metadata": {
  "kernelspec": {
   "display_name": "Julia 1.7.2",
   "language": "julia",
   "name": "julia-1.7"
  },
  "language_info": {
   "file_extension": ".jl",
   "mimetype": "application/julia",
   "name": "julia",
   "version": "1.7.2"
  }
 },
 "nbformat": 4,
 "nbformat_minor": 5
}
