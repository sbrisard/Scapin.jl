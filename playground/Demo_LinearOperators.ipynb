{
 "cells": [
  {
   "cell_type": "markdown",
   "id": "09525a4c-e2b8-4d76-a966-0d376ca20324",
   "metadata": {},
   "source": [
    "# A demo of the `LinearOperators.jl` library"
   ]
  },
  {
   "cell_type": "markdown",
   "id": "303e4d17-c605-4e5c-9b85-1012ba61cefb",
   "metadata": {},
   "source": [
    "Solve the Laplace equation `Δu = f` over a `M × N` grid using finite differences. The numerical scheme reads in the real space"
   ]
  },
  {
   "cell_type": "code",
   "execution_count": null,
   "id": "795ff358-dbe7-429d-9d3b-aa47d592611b",
   "metadata": {},
   "outputs": [],
   "source": [
    "using LinearOperators"
   ]
  },
  {
   "cell_type": "code",
   "execution_count": null,
   "id": "cce54fa6-216e-48a7-adc1-d59988fd75c5",
   "metadata": {},
   "outputs": [],
   "source": [
    "const DIM = 2"
   ]
  },
  {
   "cell_type": "code",
   "execution_count": null,
   "id": "71c711bb-7309-4dd1-b01e-06654d2c2e37",
   "metadata": {},
   "outputs": [],
   "source": [
    "const T = Float64"
   ]
  },
  {
   "cell_type": "code",
   "execution_count": null,
   "id": "1e186f69-09f0-491f-8a75-c01ae5ba5894",
   "metadata": {},
   "outputs": [],
   "source": [
    "Lx, Ly = 1.0, 1.5"
   ]
  },
  {
   "cell_type": "code",
   "execution_count": null,
   "id": "49a22848-4831-4ea3-82e8-e3f740e13f25",
   "metadata": {},
   "outputs": [],
   "source": [
    "M, N = 8, 16"
   ]
  },
  {
   "cell_type": "code",
   "execution_count": null,
   "id": "523563c2-80c2-4351-b566-d0528882912e",
   "metadata": {},
   "outputs": [],
   "source": [
    "Δx, Δy = Lx / M, Ly / N"
   ]
  },
  {
   "cell_type": "code",
   "execution_count": null,
   "id": "8eb0ad4e-0f92-4903-86f1-35ac3bbda38c",
   "metadata": {},
   "outputs": [],
   "source": [
    "nrows = ncols = M * N"
   ]
  },
  {
   "cell_type": "code",
   "execution_count": null,
   "id": "75ef171c-f345-40e9-9419-daa8a4e211bb",
   "metadata": {},
   "outputs": [],
   "source": [
    "function mul_laplacian!(y, x, α, β)\n",
    "    x_hat = fft(x)\n",
    "    for m = 1:M\n",
    "        k_x² = (2.0 / Δx * sin(π * m / M)) ^ 2\n",
    "        for n = 1:N\n",
    "            k_y² = (2.0 / Δy * sin(π * n / N))^2\n",
    "            x_hat[m, n] *= k_x² + k_y²\n",
    "        end\n",
    "    end\n",
    "    y .= α .* ifft(x_hat) .+ β .* y\n",
    "end"
   ]
  },
  {
   "cell_type": "code",
   "execution_count": null,
   "id": "6eb0cf26-fe1e-4a3c-8180-b6161bd51445",
   "metadata": {},
   "outputs": [],
   "source": [
    "Δ = LinearOperator(ComplexF64, nrows, ncols, false, false, mul_laplacian!, nothing, nothing)"
   ]
  },
  {
   "cell_type": "code",
   "execution_count": null,
   "id": "fa98a144-b64e-444b-a238-9d06727fd67f",
   "metadata": {},
   "outputs": [],
   "source": [
    "Δx"
   ]
  }
 ],
 "metadata": {
  "kernelspec": {
   "display_name": "Julia 1.7.2",
   "language": "julia",
   "name": "julia-1.7"
  },
  "language_info": {
   "file_extension": ".jl",
   "mimetype": "application/julia",
   "name": "julia",
   "version": "1.7.2"
  }
 },
 "nbformat": 4,
 "nbformat_minor": 5
}
