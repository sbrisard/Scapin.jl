{
 "cells": [
  {
   "cell_type": "code",
   "execution_count": null,
   "id": "029762de-0cd7-4665-89f5-bd25c3dcc77a",
   "metadata": {},
   "outputs": [],
   "source": [
    "using FFTW"
   ]
  },
  {
   "cell_type": "code",
   "execution_count": null,
   "id": "409ad71d-9211-4075-81d5-e323cc4d5e94",
   "metadata": {},
   "outputs": [],
   "source": [
    "struct LaplaceOperator\n",
    "    Lx:: Float64\n",
    "    Ly:: Float64\n",
    "    Nx:: Int\n",
    "    Ny:: Int\n",
    "    Δx:: Float64\n",
    "    Δy:: Float64\n",
    "    ncells:: Int\n",
    "    kx²:: Vector{Float64}\n",
    "    ky²:: Vector{Float64}\n",
    "    function LaplaceOperator(Lx, Ly, Nx, Ny)\n",
    "        Δx = Lx / Nx\n",
    "        Δy = Ly / Ny\n",
    "        ncells = Nx * Ny\n",
    "        kx² = [(2 * sin(π * n / Nx) / Δx)^2 for n = 0:(Nx - 1)]\n",
    "        ky² = [(2 * sin(π * n / Ny) / Δy)^2 for n = 0:(Ny - 1)]\n",
    "        new(Lx, Ly, Nx, Ny, Δx, Δy, ncells, kx², ky²)\n",
    "    end\n",
    "end"
   ]
  },
  {
   "cell_type": "code",
   "execution_count": null,
   "id": "d144dd6a-9b7a-48fb-a083-4594e073d953",
   "metadata": {},
   "outputs": [],
   "source": [
    "function Base.:*(Δ:: LaplaceOperator, x)\n",
    "    x_arr = fft(reshape(x, Δ.Nx, Δ.Ny))\n",
    "    for nx = 1:Δ.Nx\n",
    "        for ny = 1:Δ.Ny\n",
    "            x_arr[nx, ny] *= -(Δ.kx²[nx] + Δ.ky²[ny])\n",
    "        end\n",
    "    end\n",
    "    y_arr = real.(ifft(x_arr))\n",
    "    reshape(y_arr, Δ.ncells)\n",
    "end"
   ]
  },
  {
   "cell_type": "code",
   "execution_count": null,
   "id": "61093d4c-7afe-4abe-aeae-f0e7538be095",
   "metadata": {},
   "outputs": [],
   "source": [
    "struct LaplaceOperatorRef\n",
    "    Lx:: Float64\n",
    "    Ly:: Float64\n",
    "    Nx:: Int\n",
    "    Ny:: Int\n",
    "    Δx:: Float64\n",
    "    Δy:: Float64\n",
    "    ncells:: Int\n",
    "    function LaplaceOperatorRef(Lx, Ly, Nx, Ny)\n",
    "        Δx = Lx / Nx\n",
    "        Δy = Ly / Ny\n",
    "        ncells = Nx * Ny\n",
    "        new(Lx, Ly, Nx, Ny, Δx, Δy, ncells)\n",
    "    end\n",
    "end\n"
   ]
  },
  {
   "cell_type": "code",
   "execution_count": null,
   "id": "fd5659e9-1310-4975-8127-3b8ef49f09da",
   "metadata": {},
   "outputs": [],
   "source": [
    "function Base.:*(Δ:: LaplaceOperatorRef, x)\n",
    "    x_arr = reshape(x, Δ.Nx, Δ.Ny)\n",
    "    y = similar(x)\n",
    "    y_arr = reshape(y, Δ.Nx, Δ.Ny)\n",
    "    for j₀ ∈ 1:Δ.Ny\n",
    "        j₋₁ = j₀ == 1 ? Δ.Ny : j₀ - 1\n",
    "        j₊₁ = j₀ == Δ.Ny ? 1 : j₀ + 1\n",
    "        for i₀ ∈ 1:Δ.Nx\n",
    "            i₋₁ = i₀ == 1 ? Δ.Nx : i₀ - 1\n",
    "            i₊₁ = i₀ == Δ.Nx ? 1 : i₀ + 1\n",
    "            y_arr[i₀, j₀] = ((x_arr[i₊₁, j₀] - 2 * x_arr[i₀, j₀] + x_arr[i₋₁, j₀]) / Δ.Δx^2\n",
    "                + (x_arr[i₀, j₊₁] - 2 * x_arr[i₀, j₀] + x_arr[i₀, j₋₁]) / Δ.Δy^2)\n",
    "        end\n",
    "    end\n",
    "    y\n",
    "end"
   ]
  },
  {
   "cell_type": "code",
   "execution_count": null,
   "id": "ff0dde21-1d79-40ba-a22d-d503a2efc33a",
   "metadata": {},
   "outputs": [],
   "source": [
    "Δ = LaplaceOperator(1.0, 1.5, 64, 128)\n",
    "Δ_ref = LaplaceOperatorRef(Δ.Lx, Δ.Ly, Δ.Nx, Δ.Ny)\n",
    "\n",
    "ux = [sin(2π * (n + 0.5) / Δ.Nx) for n = 0:(Δ.Nx-1)]\n",
    "uy = [sin(4π * (n + 0.5) / Δ.Ny) for n = 0:(Δ.Ny-1)]\n",
    "u = ux .* uy'\n",
    "u_vec = reshape(u, Δ.ncells)\n",
    "\n",
    "Δu = reshape(Δ * u_vec, Δ.Nx, Δ.Ny)\n",
    "Δu_ref = reshape(Δ_ref * u_vec, Δ.Nx, Δ.Ny)"
   ]
  },
  {
   "cell_type": "code",
   "execution_count": null,
   "id": "46f6a287-eff7-4936-8f7a-3a7f83bf357d",
   "metadata": {},
   "outputs": [],
   "source": [
    "@assert all(isapprox.(Δu, Δu_ref, atol=1e-15, rtol=1e-12))"
   ]
  }
 ],
 "metadata": {
  "kernelspec": {
   "display_name": "Julia 1.8.2",
   "language": "julia",
   "name": "julia-1.8"
  },
  "language_info": {
   "file_extension": ".jl",
   "mimetype": "application/julia",
   "name": "julia",
   "version": "1.8.2"
  }
 },
 "nbformat": 4,
 "nbformat_minor": 5
}
