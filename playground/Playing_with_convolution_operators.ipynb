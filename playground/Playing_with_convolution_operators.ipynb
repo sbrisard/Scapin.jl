{
 "cells": [
  {
   "cell_type": "code",
   "execution_count": null,
   "id": "029762de-0cd7-4665-89f5-bd25c3dcc77a",
   "metadata": {},
   "outputs": [],
   "source": [
    "using FFTW\n",
    "using Krylov\n",
    "using LinearAlgebra\n",
    "using LinearSolve\n",
    "using LinearMaps"
   ]
  },
  {
   "cell_type": "code",
   "execution_count": null,
   "id": "66801c3b-6c8e-472d-8e3a-d638897b0d53",
   "metadata": {},
   "outputs": [],
   "source": [
    "struct LaplaceFunctor\n",
    "    Lx:: Float64\n",
    "    Ly:: Float64\n",
    "    Nx:: Int\n",
    "    Ny:: Int\n",
    "    dx:: Float64\n",
    "    dy:: Float64\n",
    "    ncells:: Int\n",
    "    function LaplaceFunctor(Lx, Ly, Nx, Ny)\n",
    "        dx = Lx / Nx\n",
    "        dy = Ly / Ny\n",
    "        ncells = Nx * Ny\n",
    "        new(Lx, Ly, Nx, Ny, dx, dy, ncells)\n",
    "    end\n",
    "end\n",
    "\n",
    "function(Δ::LaplaceFunctor)(x)\n",
    "    x_arr = reshape(x, Δ.Nx, Δ.Ny)\n",
    "    y = similar(x)\n",
    "    y_arr = reshape(y, Δ.Nx, Δ.Ny)\n",
    "    for j₀ ∈ 1:Δ.Ny\n",
    "        j₋₁ = j₀ == 1 ? Δ.Ny : j₀ - 1\n",
    "        j₊₁ = j₀ == Δ.Ny ? 1 : j₀ + 1\n",
    "        for i₀ ∈ 1:Δ.Nx\n",
    "            i₋₁ = i₀ == 1 ? Δ.Nx : i₀ - 1\n",
    "            i₊₁ = i₀ == Δ.Nx ? 1 : i₀ + 1\n",
    "            y_arr[i₀, j₀] = ((x_arr[i₊₁, j₀] - 2 * x_arr[i₀, j₀] + x_arr[i₋₁, j₀]) / Δ.dx^2\n",
    "                + (x_arr[i₀, j₊₁] - 2 * x_arr[i₀, j₀] + x_arr[i₀, j₋₁]) / Δ.dy^2)\n",
    "        end\n",
    "    end\n",
    "    y\n",
    "end\n",
    "\n",
    "function laplace_operator(Lx, Ly, Nx, Ny)\n",
    "    functor = LaplaceFunctor(Lx, Ly, Nx, Ny)\n",
    "    LinearMap(functor, functor.ncells, issymmetric=true)\n",
    "end"
   ]
  },
  {
   "cell_type": "code",
   "execution_count": null,
   "id": "aacb645d-faf7-4cf7-a3db-969e6d3e97d3",
   "metadata": {},
   "outputs": [],
   "source": [
    "struct LaplaceFunctorFourier\n",
    "    Lx:: Float64\n",
    "    Ly:: Float64\n",
    "    Nx:: Int\n",
    "    Ny:: Int\n",
    "    dx:: Float64\n",
    "    dy:: Float64\n",
    "    ncells:: Int\n",
    "    kx²:: Vector{Float64}\n",
    "    ky²:: Vector{Float64}\n",
    "    function LaplaceFunctorFourier(Lx, Ly, Nx, Ny)\n",
    "        dx = Lx / Nx\n",
    "        dy = Ly / Ny\n",
    "        ncells = Nx * Ny\n",
    "        kx² = [(2 * sin(π * n / Nx) / dx)^2 for n = 0:(Nx - 1)]\n",
    "        ky² = [(2 * sin(π * n / Ny) / dy)^2 for n = 0:(Ny - 1)]\n",
    "        new(Lx, Ly, Nx, Ny, dx, dy, ncells, kx², ky²)\n",
    "    end\n",
    "end\n",
    "\n",
    "function(Δ:: LaplaceFunctorFourier)(x)\n",
    "    x_arr = fft(reshape(x, Δ.Nx, Δ.Ny))\n",
    "    for nx = 1:Δ.Nx\n",
    "        for ny = 1:Δ.Ny\n",
    "            x_arr[nx, ny] *= -(Δ.kx²[nx] + Δ.ky²[ny])\n",
    "        end\n",
    "    end\n",
    "    y_arr = real.(ifft(x_arr))\n",
    "    reshape(y_arr, Δ.ncells)\n",
    "end\n",
    "\n",
    "function laplace_operator_fourier(Lx, Ly, Nx, Ny)\n",
    "    functor = LaplaceFunctorFourier(Lx, Ly, Nx, Ny)\n",
    "    LinearMap(functor, functor.ncells, issymmetric=true)\n",
    "end"
   ]
  },
  {
   "cell_type": "code",
   "execution_count": null,
   "id": "3658bc29-d7ab-42b9-a121-82966c8b3de0",
   "metadata": {},
   "outputs": [],
   "source": [
    "Δ = laplace_operator(1.0, 1.5, 64, 128)\n",
    "Δ_fft = laplace_operator(Δ.f.Lx, Δ.f.Ly, Δ.f.Nx, Δ.f.Ny)\n",
    "\n",
    "\n",
    "ux = [sin(2π * (n + 0.5) / Δ.f.Nx) for n = 0:(Δ.f.Nx-1)]\n",
    "uy = [sin(4π * (n + 0.5) / Δ.f.Ny) for n = 0:(Δ.f.Ny-1)]\n",
    "u = ux .* uy'\n",
    "u_vec = reshape(u, Δ.f.ncells)\n",
    "\n",
    "Δu = reshape(Δ * u_vec, Δ.f.Nx, Δ.f.Ny)\n",
    "Δu_fft = reshape(Δ_fft * u_vec, Δ.f.Nx, Δ.f.Ny)"
   ]
  },
  {
   "cell_type": "code",
   "execution_count": null,
   "id": "46f6a287-eff7-4936-8f7a-3a7f83bf357d",
   "metadata": {},
   "outputs": [],
   "source": [
    "@assert all(isapprox.(Δu, Δu_fft, atol=1e-15, rtol=1e-12))"
   ]
  },
  {
   "cell_type": "code",
   "execution_count": null,
   "id": "7d7f09a1-5d72-4c32-ad81-cdff9690aaa0",
   "metadata": {},
   "outputs": [],
   "source": [
    "f_arr = zeros(Float64, Δ.f.Nx, Δ.f.Ny)\n",
    "f_arr[1, 1] = 1.0\n",
    "f = reshape(f_arr, Δ.f.ncells)\n",
    "\n",
    "u0_arr = ones(Float64, Δ.f.Nx, Δ.f.Ny)\n",
    "u0_arr[1, 1] -= sum(u0_arr)\n",
    "u0 = reshape(u0_arr, Δ.f.ncells)\n",
    "(u, stats) = cg(Δ, f, u0)"
   ]
  }
 ],
 "metadata": {
  "kernelspec": {
   "display_name": "Julia 1.8.2",
   "language": "julia",
   "name": "julia-1.8"
  },
  "language_info": {
   "file_extension": ".jl",
   "mimetype": "application/julia",
   "name": "julia",
   "version": "1.8.2"
  }
 },
 "nbformat": 4,
 "nbformat_minor": 5
}
